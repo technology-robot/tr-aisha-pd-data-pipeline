{
 "cells": [
  {
   "cell_type": "code",
   "execution_count": 6,
   "metadata": {},
   "outputs": [
    {
     "name": "stdout",
     "output_type": "stream",
     "text": [
      "Defaulting to user installation because normal site-packages is not writeable\n",
      "Requirement already satisfied: tiktoken in /home/samkoesnadi/.local/lib/python3.10/site-packages (0.5.1)\n",
      "Requirement already satisfied: pandas in /home/samkoesnadi/.local/lib/python3.10/site-packages (2.1.3)\n",
      "Collecting matplotlib\n",
      "  Downloading matplotlib-3.8.2-cp310-cp310-manylinux_2_17_x86_64.manylinux2014_x86_64.whl (11.6 MB)\n",
      "\u001b[2K     \u001b[90m━━━━━━━━━━━━━━━━━━━━━━━━━━━━━━━━━━━━━━━━\u001b[0m \u001b[32m11.6/11.6 MB\u001b[0m \u001b[31m3.9 MB/s\u001b[0m eta \u001b[36m0:00:00\u001b[0m00:01\u001b[0m00:01\u001b[0m\n",
      "\u001b[?25hRequirement already satisfied: regex>=2022.1.18 in /home/samkoesnadi/.local/lib/python3.10/site-packages (from tiktoken) (2023.10.3)\n",
      "Requirement already satisfied: requests>=2.26.0 in /home/samkoesnadi/.local/lib/python3.10/site-packages (from tiktoken) (2.31.0)\n",
      "Requirement already satisfied: numpy<2,>=1.22.4 in /home/samkoesnadi/.local/lib/python3.10/site-packages (from pandas) (1.24.4)\n",
      "Requirement already satisfied: python-dateutil>=2.8.2 in /home/samkoesnadi/.local/lib/python3.10/site-packages (from pandas) (2.8.2)\n",
      "Requirement already satisfied: tzdata>=2022.1 in /home/samkoesnadi/.local/lib/python3.10/site-packages (from pandas) (2023.3)\n",
      "Requirement already satisfied: pytz>=2020.1 in /home/samkoesnadi/.local/lib/python3.10/site-packages (from pandas) (2023.3.post1)\n",
      "Collecting kiwisolver>=1.3.1\n",
      "  Downloading kiwisolver-1.4.5-cp310-cp310-manylinux_2_12_x86_64.manylinux2010_x86_64.whl (1.6 MB)\n",
      "\u001b[2K     \u001b[90m━━━━━━━━━━━━━━━━━━━━━━━━━━━━━━━━━━━━━━━━\u001b[0m \u001b[32m1.6/1.6 MB\u001b[0m \u001b[31m4.0 MB/s\u001b[0m eta \u001b[36m0:00:00\u001b[0ma \u001b[36m0:00:01\u001b[0m\n",
      "\u001b[?25hCollecting cycler>=0.10\n",
      "  Downloading cycler-0.12.1-py3-none-any.whl (8.3 kB)\n",
      "Collecting pillow>=8\n",
      "  Downloading Pillow-10.1.0-cp310-cp310-manylinux_2_28_x86_64.whl (3.6 MB)\n",
      "\u001b[2K     \u001b[90m━━━━━━━━━━━━━━━━━━━━━━━━━━━━━━━━━━━━━━━━\u001b[0m \u001b[32m3.6/3.6 MB\u001b[0m \u001b[31m3.6 MB/s\u001b[0m eta \u001b[36m0:00:00\u001b[0m00:01\u001b[0m00:01\u001b[0m\n",
      "\u001b[?25hRequirement already satisfied: pyparsing>=2.3.1 in /usr/lib/python3/dist-packages (from matplotlib) (2.4.7)\n",
      "Collecting contourpy>=1.0.1\n",
      "  Downloading contourpy-1.2.0-cp310-cp310-manylinux_2_17_x86_64.manylinux2014_x86_64.whl (310 kB)\n",
      "\u001b[2K     \u001b[90m━━━━━━━━━━━━━━━━━━━━━━━━━━━━━━━━━━━━━━━\u001b[0m \u001b[32m310.7/310.7 KB\u001b[0m \u001b[31m3.1 MB/s\u001b[0m eta \u001b[36m0:00:00\u001b[0m00:01\u001b[0m00:01\u001b[0m\n",
      "\u001b[?25hCollecting fonttools>=4.22.0\n",
      "  Downloading fonttools-4.46.0-cp310-cp310-manylinux_2_17_x86_64.manylinux2014_x86_64.whl (4.6 MB)\n",
      "\u001b[2K     \u001b[90m━━━━━━━━━━━━━━━━━━━━━━━━━━━━━━━━━━━━━━━━\u001b[0m \u001b[32m4.6/4.6 MB\u001b[0m \u001b[31m3.3 MB/s\u001b[0m eta \u001b[36m0:00:00\u001b[0m00:01\u001b[0m00:01\u001b[0m\n",
      "\u001b[?25hRequirement already satisfied: packaging>=20.0 in /home/samkoesnadi/.local/lib/python3.10/site-packages (from matplotlib) (23.2)\n",
      "Requirement already satisfied: six>=1.5 in /usr/lib/python3/dist-packages (from python-dateutil>=2.8.2->pandas) (1.16.0)\n",
      "Requirement already satisfied: idna<4,>=2.5 in /home/samkoesnadi/.local/lib/python3.10/site-packages (from requests>=2.26.0->tiktoken) (3.6)\n",
      "Requirement already satisfied: urllib3<3,>=1.21.1 in /home/samkoesnadi/.local/lib/python3.10/site-packages (from requests>=2.26.0->tiktoken) (1.26.18)\n",
      "Requirement already satisfied: certifi>=2017.4.17 in /home/samkoesnadi/.local/lib/python3.10/site-packages (from requests>=2.26.0->tiktoken) (2023.11.17)\n",
      "Requirement already satisfied: charset-normalizer<4,>=2 in /home/samkoesnadi/.local/lib/python3.10/site-packages (from requests>=2.26.0->tiktoken) (3.3.2)\n",
      "Installing collected packages: pillow, kiwisolver, fonttools, cycler, contourpy, matplotlib\n",
      "Successfully installed contourpy-1.2.0 cycler-0.12.1 fonttools-4.46.0 kiwisolver-1.4.5 matplotlib-3.8.2 pillow-10.1.0\n"
     ]
    }
   ],
   "source": [
    "!pip install tiktoken pandas matplotlib"
   ]
  },
  {
   "cell_type": "code",
   "execution_count": 1,
   "metadata": {},
   "outputs": [],
   "source": [
    "INPUT_CSV_FILE = \"output.csv\""
   ]
  },
  {
   "cell_type": "code",
   "execution_count": 2,
   "metadata": {},
   "outputs": [
    {
     "data": {
      "text/html": [
       "<div>\n",
       "<style scoped>\n",
       "    .dataframe tbody tr th:only-of-type {\n",
       "        vertical-align: middle;\n",
       "    }\n",
       "\n",
       "    .dataframe tbody tr th {\n",
       "        vertical-align: top;\n",
       "    }\n",
       "\n",
       "    .dataframe thead th {\n",
       "        text-align: right;\n",
       "    }\n",
       "</style>\n",
       "<table border=\"1\" class=\"dataframe\">\n",
       "  <thead>\n",
       "    <tr style=\"text-align: right;\">\n",
       "      <th></th>\n",
       "      <th>title</th>\n",
       "      <th>url</th>\n",
       "      <th>html</th>\n",
       "    </tr>\n",
       "  </thead>\n",
       "  <tbody>\n",
       "    <tr>\n",
       "      <th>0</th>\n",
       "      <td>Whey Protein Deluxe | ALDI ONLINESHOP</td>\n",
       "      <td>https://www.aldi-onlineshop.de/p/whey-protein-...</td>\n",
       "      <td>Für den Versand von Artikeln aus dem ALDI ONLI...</td>\n",
       "    </tr>\n",
       "    <tr>\n",
       "      <th>1</th>\n",
       "      <td>Romeo Wild Roots Hunde-Nassfutter, 12 x 400 g ...</td>\n",
       "      <td>https://www.aldi-onlineshop.de/p/wild-roots-hu...</td>\n",
       "      <td>Für den Versand von Artikeln aus dem ALDI ONLI...</td>\n",
       "    </tr>\n",
       "    <tr>\n",
       "      <th>2</th>\n",
       "      <td>Catit Katzensnack, 50er-Pack | ALDI ONLINESHOP</td>\n",
       "      <td>https://www.aldi-onlineshop.de/p/katzensnack-c...</td>\n",
       "      <td>Für den Versand von Artikeln aus dem ALDI ONLI...</td>\n",
       "    </tr>\n",
       "    <tr>\n",
       "      <th>3</th>\n",
       "      <td>Catit Katzensnack, 50er-Pack | ALDI ONLINESHOP</td>\n",
       "      <td>https://www.aldi-onlineshop.de/p/katzensnack-c...</td>\n",
       "      <td>Für den Versand von Artikeln aus dem ALDI ONLI...</td>\n",
       "    </tr>\n",
       "    <tr>\n",
       "      <th>4</th>\n",
       "      <td>Catit Go Natural Katzen-Erbsenstreu | ALDI ONL...</td>\n",
       "      <td>https://www.aldi-onlineshop.de/p/katzen-erbsen...</td>\n",
       "      <td>Für den Versand von Artikeln aus dem ALDI ONLI...</td>\n",
       "    </tr>\n",
       "    <tr>\n",
       "      <th>...</th>\n",
       "      <td>...</td>\n",
       "      <td>...</td>\n",
       "      <td>...</td>\n",
       "    </tr>\n",
       "    <tr>\n",
       "      <th>2312</th>\n",
       "      <td>Novitesse Gästehandtuch Hoch/Tief, 2 x 4er Pac...</td>\n",
       "      <td>https://www.aldi-onlineshop.de/p/gaestehandtuc...</td>\n",
       "      <td>Für den Versand von Artikeln aus dem ALDI ONLI...</td>\n",
       "    </tr>\n",
       "    <tr>\n",
       "      <th>2313</th>\n",
       "      <td>Novitesse Gästehandtuch Hoch/Tief, 2 x 4er Pac...</td>\n",
       "      <td>https://www.aldi-onlineshop.de/p/gaestehandtuc...</td>\n",
       "      <td>Für den Versand von Artikeln aus dem ALDI ONLI...</td>\n",
       "    </tr>\n",
       "    <tr>\n",
       "      <th>2314</th>\n",
       "      <td>Novitesse Gästehandtuch Hoch/Tief, 2 x 4er Pac...</td>\n",
       "      <td>https://www.aldi-onlineshop.de/p/gaestehandtuc...</td>\n",
       "      <td>Für den Versand von Artikeln aus dem ALDI ONLI...</td>\n",
       "    </tr>\n",
       "    <tr>\n",
       "      <th>2315</th>\n",
       "      <td>Samsung Smartphone Galaxy A14 5G | ALDI ONLINE...</td>\n",
       "      <td>https://www.aldi-onlineshop.de/p/smartphone-ga...</td>\n",
       "      <td>Für den Versand von Artikeln aus dem ALDI ONLI...</td>\n",
       "    </tr>\n",
       "    <tr>\n",
       "      <th>2316</th>\n",
       "      <td>Marmony Infrarot-Wandheizung | ALDI ONLINESHOP</td>\n",
       "      <td>https://www.aldi-onlineshop.de/p/infrarot-wand...</td>\n",
       "      <td>Für den Versand von Artikeln aus dem ALDI ONLI...</td>\n",
       "    </tr>\n",
       "  </tbody>\n",
       "</table>\n",
       "<p>2317 rows × 3 columns</p>\n",
       "</div>"
      ],
      "text/plain": [
       "                                                  title  \\\n",
       "0                 Whey Protein Deluxe | ALDI ONLINESHOP   \n",
       "1     Romeo Wild Roots Hunde-Nassfutter, 12 x 400 g ...   \n",
       "2        Catit Katzensnack, 50er-Pack | ALDI ONLINESHOP   \n",
       "3        Catit Katzensnack, 50er-Pack | ALDI ONLINESHOP   \n",
       "4     Catit Go Natural Katzen-Erbsenstreu | ALDI ONL...   \n",
       "...                                                 ...   \n",
       "2312  Novitesse Gästehandtuch Hoch/Tief, 2 x 4er Pac...   \n",
       "2313  Novitesse Gästehandtuch Hoch/Tief, 2 x 4er Pac...   \n",
       "2314  Novitesse Gästehandtuch Hoch/Tief, 2 x 4er Pac...   \n",
       "2315  Samsung Smartphone Galaxy A14 5G | ALDI ONLINE...   \n",
       "2316     Marmony Infrarot-Wandheizung | ALDI ONLINESHOP   \n",
       "\n",
       "                                                    url  \\\n",
       "0     https://www.aldi-onlineshop.de/p/whey-protein-...   \n",
       "1     https://www.aldi-onlineshop.de/p/wild-roots-hu...   \n",
       "2     https://www.aldi-onlineshop.de/p/katzensnack-c...   \n",
       "3     https://www.aldi-onlineshop.de/p/katzensnack-c...   \n",
       "4     https://www.aldi-onlineshop.de/p/katzen-erbsen...   \n",
       "...                                                 ...   \n",
       "2312  https://www.aldi-onlineshop.de/p/gaestehandtuc...   \n",
       "2313  https://www.aldi-onlineshop.de/p/gaestehandtuc...   \n",
       "2314  https://www.aldi-onlineshop.de/p/gaestehandtuc...   \n",
       "2315  https://www.aldi-onlineshop.de/p/smartphone-ga...   \n",
       "2316  https://www.aldi-onlineshop.de/p/infrarot-wand...   \n",
       "\n",
       "                                                   html  \n",
       "0     Für den Versand von Artikeln aus dem ALDI ONLI...  \n",
       "1     Für den Versand von Artikeln aus dem ALDI ONLI...  \n",
       "2     Für den Versand von Artikeln aus dem ALDI ONLI...  \n",
       "3     Für den Versand von Artikeln aus dem ALDI ONLI...  \n",
       "4     Für den Versand von Artikeln aus dem ALDI ONLI...  \n",
       "...                                                 ...  \n",
       "2312  Für den Versand von Artikeln aus dem ALDI ONLI...  \n",
       "2313  Für den Versand von Artikeln aus dem ALDI ONLI...  \n",
       "2314  Für den Versand von Artikeln aus dem ALDI ONLI...  \n",
       "2315  Für den Versand von Artikeln aus dem ALDI ONLI...  \n",
       "2316  Für den Versand von Artikeln aus dem ALDI ONLI...  \n",
       "\n",
       "[2317 rows x 3 columns]"
      ]
     },
     "execution_count": 2,
     "metadata": {},
     "output_type": "execute_result"
    }
   ],
   "source": [
    "import pandas as pd\n",
    "\n",
    "table = pd.read_csv(INPUT_CSV_FILE)\n",
    "table"
   ]
  },
  {
   "cell_type": "code",
   "execution_count": 3,
   "metadata": {},
   "outputs": [],
   "source": [
    "import tiktoken\n",
    "\n",
    "encoder = tiktoken.encoding_for_model(\"gpt-3.5-turbo\")\n",
    "\n",
    "table[\"token_size\"] = table[\"html\"].apply(lambda x: len(encoder.encode(x)))"
   ]
  },
  {
   "cell_type": "code",
   "execution_count": 4,
   "metadata": {},
   "outputs": [
    {
     "data": {
      "text/html": [
       "<div>\n",
       "<style scoped>\n",
       "    .dataframe tbody tr th:only-of-type {\n",
       "        vertical-align: middle;\n",
       "    }\n",
       "\n",
       "    .dataframe tbody tr th {\n",
       "        vertical-align: top;\n",
       "    }\n",
       "\n",
       "    .dataframe thead th {\n",
       "        text-align: right;\n",
       "    }\n",
       "</style>\n",
       "<table border=\"1\" class=\"dataframe\">\n",
       "  <thead>\n",
       "    <tr style=\"text-align: right;\">\n",
       "      <th></th>\n",
       "      <th>token_size</th>\n",
       "    </tr>\n",
       "  </thead>\n",
       "  <tbody>\n",
       "    <tr>\n",
       "      <th>count</th>\n",
       "      <td>2317.000000</td>\n",
       "    </tr>\n",
       "    <tr>\n",
       "      <th>mean</th>\n",
       "      <td>2021.802762</td>\n",
       "    </tr>\n",
       "    <tr>\n",
       "      <th>std</th>\n",
       "      <td>350.623163</td>\n",
       "    </tr>\n",
       "    <tr>\n",
       "      <th>min</th>\n",
       "      <td>916.000000</td>\n",
       "    </tr>\n",
       "    <tr>\n",
       "      <th>25%</th>\n",
       "      <td>1816.000000</td>\n",
       "    </tr>\n",
       "    <tr>\n",
       "      <th>50%</th>\n",
       "      <td>1959.000000</td>\n",
       "    </tr>\n",
       "    <tr>\n",
       "      <th>75%</th>\n",
       "      <td>2191.000000</td>\n",
       "    </tr>\n",
       "    <tr>\n",
       "      <th>max</th>\n",
       "      <td>3933.000000</td>\n",
       "    </tr>\n",
       "  </tbody>\n",
       "</table>\n",
       "</div>"
      ],
      "text/plain": [
       "        token_size\n",
       "count  2317.000000\n",
       "mean   2021.802762\n",
       "std     350.623163\n",
       "min     916.000000\n",
       "25%    1816.000000\n",
       "50%    1959.000000\n",
       "75%    2191.000000\n",
       "max    3933.000000"
      ]
     },
     "execution_count": 4,
     "metadata": {},
     "output_type": "execute_result"
    }
   ],
   "source": [
    "table.describe()"
   ]
  },
  {
   "cell_type": "code",
   "execution_count": 7,
   "metadata": {},
   "outputs": [
    {
     "data": {
      "text/plain": [
       "array([[<Axes: title={'center': 'token_size'}>]], dtype=object)"
      ]
     },
     "execution_count": 7,
     "metadata": {},
     "output_type": "execute_result"
    },
    {
     "data": {
      "image/png": "[encoded data removed]",
      "text/plain": [
       "<Figure size 640x480 with 1 Axes>"
      ]
     },
     "metadata": {},
     "output_type": "display_data"
    }
   ],
   "source": [
    "table.hist(column=[\"token_size\"])"
   ]
  }
 ],
 "metadata": {
  "kernelspec": {
   "display_name": "Python 3",
   "language": "python",
   "name": "python3"
  },
  "language_info": {
   "codemirror_mode": {
    "name": "ipython",
    "version": 3
   },
   "file_extension": ".py",
   "mimetype": "text/x-python",
   "name": "python",
   "nbconvert_exporter": "python",
   "pygments_lexer": "ipython3",
   "version": "3.10.12"
  }
 },
 "nbformat": 4,
 "nbformat_minor": 2
}
